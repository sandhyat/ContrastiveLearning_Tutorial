{
 "cells": [
  {
   "cell_type": "markdown",
   "id": "6250ad4a",
   "metadata": {},
   "source": [
    "# SCARF: Self-Supervised Contrastive Learning using Random Feature Corruption"
   ]
  },
  {
   "cell_type": "markdown",
   "id": "2dc236cb",
   "metadata": {},
   "source": [
    "![image](SCARF_Schema.png)"
   ]
  },
  {
   "cell_type": "markdown",
   "id": "e7122cec",
   "metadata": {},
   "source": [
    "This file contains an implementation of SCARF on two publicly available datasets: [Darwin dataset](https://archive.ics.uci.edu/dataset/732/darwin)and [Nomao dataset](https://archive.ics.uci.edu/dataset/227/nomao). \n",
    "Nomao dataset contains 451 features across 174 participants with 2 classes: Alzheimer's disease patients or healthy.\n",
    "\n",
    "The goal is to  learn a tabular data representation in an unsupervised or self-supervised such that the learnt representations can be good at the classification task.\n",
    "\n",
    "Adapted from [pytorch implementation of SCARF](https://github.com/clabrugere/pytorch-scarf/tree/master)."
   ]
  },
  {
   "cell_type": "code",
   "execution_count": 1,
   "id": "25c92ba0",
   "metadata": {},
   "outputs": [
    {
     "name": "stderr",
     "output_type": "stream",
     "text": [
      "/home/trips/Virtual_env_python/lib64/python3.9/site-packages/tqdm/auto.py:22: TqdmWarning: IProgress not found. Please update jupyter and ipywidgets. See https://ipywidgets.readthedocs.io/en/stable/user_install.html\n",
      "  from .autonotebook import tqdm as notebook_tqdm\n"
     ]
    }
   ],
   "source": [
    "# importing packages\n",
    "import torch\n",
    "import torch.nn as nn\n",
    "import numpy as np\n",
    "import pandas as pd\n",
    "import random\n",
    "import os\n",
    "from torch.utils.data import Dataset, DataLoader\n",
    "from torch.optim import Adam\n",
    "from sklearn.linear_model import LogisticRegression\n",
    "from sklearn.ensemble import RandomForestClassifier\n",
    "from sklearn.metrics import (ConfusionMatrixDisplay, classification_report,\n",
    "                             confusion_matrix)\n",
    "from sklearn.metrics import average_precision_score, roc_auc_score\n",
    "from sklearn.model_selection import train_test_split\n",
    "from sklearn.preprocessing import StandardScaler\n",
    "from tqdm.auto import tqdm\n",
    "from scarf import scarf_model, loss\n",
    "from sklearn.manifold import TSNE\n",
    "import matplotlib.pyplot as plt\n",
    "import matplotlib.cm as cm\n",
    "import xgboost as xgb"
   ]
  },
  {
   "cell_type": "code",
   "execution_count": 2,
   "id": "19eaab53",
   "metadata": {},
   "outputs": [
    {
     "name": "stdout",
     "output_type": "stream",
     "text": [
      "Current working directory is :  /home/trips/ContrastiveLearning_Tutorial/scarf\n"
     ]
    }
   ],
   "source": [
    "# check the current directory, set it as scarf\n",
    "if os.getcwd()!= '/home/trips/ContrastiveLearning_Tutorial/scarf':  # replace the path with your local path\n",
    "    os.chdir('/home/trips/ContrastiveLearning_Tutorial/scarf')\n",
    "print(\"Current working directory is : \", os.getcwd())"
   ]
  },
  {
   "cell_type": "code",
   "execution_count": 86,
   "id": "9dbef833",
   "metadata": {},
   "outputs": [],
   "source": [
    "# function for initial loading and processing of the dataset\n",
    "def load_dataset(dataset):\n",
    "    if dataset=='Darwin':\n",
    "        data_file = os.path.join('../Small_datasets', dataset, dataset + \".csv\")\n",
    "        df = pd.read_csv(data_file)\n",
    "\n",
    "        # convert the target into numeric\n",
    "        df.loc[df['class']=='P','class']=1\n",
    "        df.loc[df['class']=='H','class']=0\n",
    "\n",
    "        df['class'] = df['class'].astype(int)\n",
    "        df['class'] = df['class'].astype(int)\n",
    "\n",
    "        data, target = df.iloc[:,1:-1], df.iloc[:,-1]  # first column is the id and last column is the target\n",
    "        \n",
    "    if dataset=='Nomao':\n",
    "        data_file = os.path.join('../Small_datasets', dataset, dataset + \".data\")\n",
    "\n",
    "        full_Data0 = pd.read_csv(data_file, header=None)\n",
    "        full_Data0.replace('?', np.nan, inplace=True)\n",
    "        full_Data0 = full_Data0.loc[:, ~(full_Data0 == 'n').any()]  # dropping the nominal type columns\n",
    "        full_Data0.drop(columns=[0], inplace=True)  # dropping the id column\n",
    "\n",
    "        # drop columns with very high missing percentage\n",
    "        percent_missing = full_Data0.isnull().sum() * 100 / len(full_Data0)\n",
    "        missing_value_df = pd.DataFrame({'column_name': full_Data0.columns,\n",
    "                                         'percent_missing': percent_missing}).sort_values(by='percent_missing')\n",
    "        full_Data0 = full_Data0[missing_value_df[missing_value_df['percent_missing'] < 70.0]['column_name']]\n",
    "\n",
    "        ## final columns that were selected including the label and excluding the first column that was the id\n",
    "        ## [1, 2, 3, 4, 5, 6, 9, 10, 11, 12, 13, 14, 49, 50, 51, 52, 53, 54, 57, 58, 59, 60, 61, 62, 65, 66, 67, 68, 69,\n",
    "        # 70, 73, 74, 75, 76, 77, 78, 81, 82, 83, 84, 85, 86, 89, 90, 91, 97, 98, 99, 101, 102, 103, 105, 106, 107, 109,\n",
    "        # 110, 111, 113, 114, 115, 117, 118, 119]\n",
    "\n",
    "        full_Data0 = full_Data0.reindex(columns=sorted(full_Data0.columns))  # reindexing so that label is at the end\n",
    "        new_feature_names = ['Col' + str(i + 1) for i in range(full_Data0.shape[1] - 1)] \n",
    "        full_Data0 = full_Data0.set_axis(new_feature_names+ ['Y'], axis=1)  # renamed the continuous columns\n",
    "\n",
    "        # converting the columns that are being treated as object type but actually are float\n",
    "        for a in full_Data0.columns:\n",
    "            if full_Data0[a].dtype == 'object':\n",
    "                full_Data0[a] = full_Data0[a].astype('float')\n",
    "\n",
    "        full_Data0 = full_Data0.fillna(full_Data0.mean())  # filling the missing values\n",
    "        full_Data0['Y'] = np.where(full_Data0['Y'] == -1, 0, 1)  # to make it compatible with the rest\n",
    "        \n",
    "        data, target = full_Data0[new_feature_names], full_Data0['Y']\n",
    "        \n",
    "\n",
    "    train_data, test_data, train_target, test_target = train_test_split(\n",
    "        data, \n",
    "        target, \n",
    "        test_size=0.2, \n",
    "        stratify=target, \n",
    "        random_state=seed\n",
    "    )\n",
    "\n",
    "    # preprocess\n",
    "    constant_cols = [c for c in train_data.columns if train_data[c].nunique() == 1]\n",
    "    train_data.drop(columns=constant_cols, inplace=True)\n",
    "    test_data.drop(columns=constant_cols, inplace=True)\n",
    "\n",
    "    scaler = StandardScaler()\n",
    "    train_data = pd.DataFrame(scaler.fit_transform(train_data), columns=train_data.columns)\n",
    "    test_data = pd.DataFrame(scaler.transform(test_data), columns=test_data.columns)\n",
    "\n",
    "    # to torch dataset\n",
    "    train_ds = scarf_model.ExampleDataset(\n",
    "        train_data.to_numpy(), \n",
    "        train_target.to_numpy(), \n",
    "        columns=train_data.columns\n",
    "    )\n",
    "    test_ds = scarf_model.ExampleDataset(\n",
    "        test_data.to_numpy(), \n",
    "        test_data.to_numpy(), \n",
    "        columns=test_data.columns\n",
    "    )\n",
    "\n",
    "#     print(f\"Train set: {train_ds.shape}\")\n",
    "#     print(f\"Test set: {test_ds.shape}\")\n",
    "    train_ds.to_dataframe().head()\n",
    "\n",
    "    return train_data, train_ds, train_target,test_data, test_ds, test_target\n"
   ]
  },
  {
   "cell_type": "code",
   "execution_count": 87,
   "id": "14dced58",
   "metadata": {},
   "outputs": [],
   "source": [
    "# initial setting and the dataset choice\n",
    "\n",
    "dataset = \"Darwin\" # dataset name  {'Darwin', 'Nomao'}\n",
    "batch_size=128\n",
    "epochs = 10000\n",
    "lr=0.001  # learning rate\n",
    "repr_dims= 100  # representation dimension\n",
    "seed = 100  # random seed\n",
    "device = torch.device(\"cuda\" if torch.cuda.is_available() else \"cpu\")\n",
    "corruptionRate = 0.6"
   ]
  },
  {
   "cell_type": "code",
   "execution_count": 88,
   "id": "bd7ac6ab",
   "metadata": {},
   "outputs": [
    {
     "name": "stdout",
     "output_type": "stream",
     "text": [
      " Training data size :   (139, 450)\n",
      " Test data size :   (35, 450)\n",
      " Class prevalence :  0.5114942528735632\n"
     ]
    }
   ],
   "source": [
    "# loading data, orig_tr and orig_te is the form without anchor etc\n",
    "orig_tr, train_data, train_labels,orig_te, test_data, test_labels = load_dataset(dataset)\n",
    "\n",
    "# data dimensions \n",
    "print(\" Training data size :  \", train_data.shape)  # Number of samples *  number of features\n",
    "print(\" Test data size :  \", test_data.shape)\n",
    "print(\" Class prevalence : \", (train_labels.sum() + test_labels.sum() )/(train_data.shape[0] +test_data.shape[0]) )"
   ]
  },
  {
   "cell_type": "code",
   "execution_count": 89,
   "id": "fd305956",
   "metadata": {},
   "outputs": [],
   "source": [
    "# Setting up the data laoder and initializing the models\n",
    "train_loader = DataLoader(train_data, batch_size=batch_size, shuffle=True)\n",
    "\n",
    "model = scarf_model.SCARF(\n",
    "    input_dim=train_data.shape[1], \n",
    "    emb_dim=repr_dims,\n",
    "    corruption_rate=corruptionRate,\n",
    ").to(device)\n",
    "optimizer = Adam(model.parameters(), lr=lr)\n",
    "ntxent_loss = loss.NTXent()"
   ]
  },
  {
   "cell_type": "code",
   "execution_count": 90,
   "id": "51b5e792",
   "metadata": {},
   "outputs": [
    {
     "name": "stderr",
     "output_type": "stream",
     "text": [
      "                                                                                                                                                                                                                   \r"
     ]
    }
   ],
   "source": [
    "# fitting the model\n",
    "loss_history = []\n",
    "\n",
    "for epoch in range(1, epochs + 1):\n",
    "    epoch_loss = scarf_model.train_epoch(model, ntxent_loss, train_loader, optimizer, device, epoch)\n",
    "    loss_history.append(epoch_loss)"
   ]
  },
  {
   "cell_type": "code",
   "execution_count": 91,
   "id": "be486db5",
   "metadata": {},
   "outputs": [
    {
     "data": {
      "text/plain": [
       "Text(0, 0.5, 'loss')"
      ]
     },
     "execution_count": 91,
     "metadata": {},
     "output_type": "execute_result"
    },
    {
     "data": {
      "image/png": "[encoded data removed]",
      "text/plain": [
       "<Figure size 1152x576 with 1 Axes>"
      ]
     },
     "metadata": {
      "needs_background": "light"
     },
     "output_type": "display_data"
    }
   ],
   "source": [
    "fig, ax = plt.subplots(figsize=(16, 8))\n",
    "ax.plot(loss_history)\n",
    "ax.set_xlabel(\"epoch\")\n",
    "ax.set_ylabel(\"loss\")"
   ]
  },
  {
   "cell_type": "code",
   "execution_count": 92,
   "id": "dbac1c4e",
   "metadata": {},
   "outputs": [
    {
     "name": "stderr",
     "output_type": "stream",
     "text": [
      "100%|████████████████████████████████████████████████████████████████████████████████████████████████████████████████████████████████████████████████████████████████████████████████| 2/2 [00:00<00:00, 92.62it/s]\n",
      "100%|███████████████████████████████████████████████████████████████████████████████████████████████████████████████████████████████████████████████████████████████████████████████| 1/1 [00:00<00:00, 690.65it/s]"
     ]
    },
    {
     "name": "stdout",
     "output_type": "stream",
     "text": [
      "(139, 100)\n",
      "(35, 100)\n"
     ]
    },
    {
     "name": "stderr",
     "output_type": "stream",
     "text": [
      "\n"
     ]
    }
   ],
   "source": [
    "train_loader = DataLoader(train_data, batch_size=batch_size, shuffle=False)\n",
    "test_loader = DataLoader(test_data, batch_size=batch_size, shuffle=False)\n",
    "\n",
    "# get embeddings for training and test set\n",
    "train_embeddings = scarf_model.dataset_embeddings(model, train_loader, device)\n",
    "test_embeddings = scarf_model.dataset_embeddings(model, test_loader, device)\n",
    "\n",
    "print(train_embeddings.shape)\n",
    "print(test_embeddings.shape)"
   ]
  },
  {
   "cell_type": "markdown",
   "id": "39c85104",
   "metadata": {},
   "source": [
    "## Visualize the embeddings using t-sne"
   ]
  },
  {
   "cell_type": "code",
   "execution_count": 93,
   "id": "c9640207",
   "metadata": {},
   "outputs": [
    {
     "name": "stderr",
     "output_type": "stream",
     "text": [
      "/home/trips/Virtual_env_python/lib64/python3.9/site-packages/sklearn/manifold/_t_sne.py:991: FutureWarning: The PCA initialization in TSNE will change to have the standard deviation of PC1 equal to 1e-4 in 1.2. This will ensure better convergence.\n",
      "  warnings.warn(\n"
     ]
    },
    {
     "data": {
      "text/plain": [
       "Text(0.5, 1.0, 'Dataset : Darwin \\n tsne reduced representation of time series')"
      ]
     },
     "execution_count": 93,
     "metadata": {},
     "output_type": "execute_result"
    },
    {
     "data": {
      "image/png": "[encoded data removed]",
      "text/plain": [
       "<Figure size 576x576 with 1 Axes>"
      ]
     },
     "metadata": {
      "needs_background": "light"
     },
     "output_type": "display_data"
    }
   ],
   "source": [
    "tsne = TSNE(n_components=2, learning_rate=\"auto\", init=\"pca\", perplexity=15)\n",
    "reduced = tsne.fit_transform(train_embeddings)\n",
    "\n",
    "# obtaining unique labels\n",
    "unique_labels = np.unique(train_labels)\n",
    "\n",
    "fig, ax = plt.subplots(figsize=(8, 8))\n",
    "\n",
    "colors = cm.rainbow(np.linspace(0, 1, len(unique_labels)))\n",
    "\n",
    "for label, col in zip(unique_labels, colors):\n",
    "    indices = [i for i, l in enumerate(train_labels) if l == label]\n",
    "    \n",
    "    current_tx = np.take(reduced[:,0], indices)\n",
    "    current_ty = np.take(reduced[:,1], indices)\n",
    "    \n",
    "    ax.scatter(current_tx, current_ty, color=col, label=label)\n",
    "    \n",
    "# build a legend using the labels we set previously\n",
    "plt.legend(loc='best')\n",
    "plt.title(\"Dataset : \"+dataset +\" \\n tsne reduced representation of time series\")"
   ]
  },
  {
   "cell_type": "markdown",
   "id": "4f36aee2",
   "metadata": {},
   "source": [
    "## Linear evaluation"
   ]
  },
  {
   "cell_type": "code",
   "execution_count": 94,
   "id": "70c0d94c",
   "metadata": {},
   "outputs": [
    {
     "name": "stdout",
     "output_type": "stream",
     "text": [
      "Dataset :  Darwin  performance on the original data with a RF classifier\n",
      " Accuracy :  0.8857142857142857\n",
      "AUROC:  0.9738562091503268\n",
      "AUPRC:  0.9769899626517274\n",
      " result summary \n",
      "              precision    recall  f1-score   support\n",
      "\n",
      "           0       0.93      0.82      0.87        17\n",
      "           1       0.85      0.94      0.89        18\n",
      "\n",
      "    accuracy                           0.89        35\n",
      "   macro avg       0.89      0.88      0.88        35\n",
      "weighted avg       0.89      0.89      0.89        35\n",
      "\n"
     ]
    }
   ],
   "source": [
    "# RF classifier \n",
    "clf_rf = RandomForestClassifier(max_depth=6, random_state=0)\n",
    "clf_rf.fit(orig_tr, train_labels)\n",
    "\n",
    "vanilla_predictions = clf_rf.predict(orig_te)\n",
    "y_score = clf_rf.predict_proba(orig_te)\n",
    "auprc = average_precision_score(test_labels, y_score[:,1])\n",
    "auroc = roc_auc_score(test_labels, y_score[:,1])\n",
    "\n",
    "print(\"Dataset : \", dataset, \" performance on the original data with a RF classifier\" )\n",
    "print(\" Accuracy : \", clf_rf.score(orig_te, test_labels))\n",
    "print('AUROC: ', auroc)\n",
    "print('AUPRC: ', auprc) \n",
    "print(' result summary ')\n",
    "print(classification_report(test_labels, vanilla_predictions))"
   ]
  },
  {
   "cell_type": "code",
   "execution_count": 95,
   "id": "6963ca86",
   "metadata": {},
   "outputs": [
    {
     "name": "stdout",
     "output_type": "stream",
     "text": [
      "Dataset :  Darwin  performance on the learnt embeddings with a RF classifier\n",
      " Accuracy :  0.6857142857142857\n",
      "AUROC:  0.7941176470588235\n",
      "AUPRC:  0.7947361222865629\n",
      " result summary \n",
      "              precision    recall  f1-score   support\n",
      "\n",
      "           0       0.71      0.59      0.65        17\n",
      "           1       0.67      0.78      0.72        18\n",
      "\n",
      "    accuracy                           0.69        35\n",
      "   macro avg       0.69      0.68      0.68        35\n",
      "weighted avg       0.69      0.69      0.68        35\n",
      "\n"
     ]
    }
   ],
   "source": [
    "# on the learnt embeddings\n",
    "\n",
    "clf_rf = RandomForestClassifier(n_estimators=100,max_depth=6, random_state=0)\n",
    "clf_rf.fit(train_embeddings, train_labels.values)\n",
    "\n",
    "vanilla_predictions = clf_rf.predict(test_embeddings)\n",
    "y_score = clf_rf.predict_proba(test_embeddings)\n",
    "auprc = average_precision_score(test_labels, y_score[:,1])\n",
    "auroc = roc_auc_score(test_labels, y_score[:,1])\n",
    "\n",
    "print(\"Dataset : \", dataset, \" performance on the learnt embeddings with a RF classifier\" )\n",
    "print(\" Accuracy : \", clf_rf.score(test_embeddings, test_labels))\n",
    "print('AUROC: ', auroc)\n",
    "print('AUPRC: ', auprc)\n",
    "print(' result summary ')\n",
    "print(classification_report(test_labels, vanilla_predictions))"
   ]
  },
  {
   "cell_type": "code",
   "execution_count": 96,
   "id": "89f5ede3",
   "metadata": {},
   "outputs": [
    {
     "name": "stdout",
     "output_type": "stream",
     "text": [
      "Dataset :  Darwin  performance on the original data with a XGBT classifier\n",
      " Accuracy :  0.8857142857142857\n",
      "AUROC:  0.9705882352941175\n",
      "AUPRC:  0.9762844952795934\n",
      " result summary \n",
      "              precision    recall  f1-score   support\n",
      "\n",
      "           0       0.93      0.82      0.87        17\n",
      "           1       0.85      0.94      0.89        18\n",
      "\n",
      "    accuracy                           0.89        35\n",
      "   macro avg       0.89      0.88      0.88        35\n",
      "weighted avg       0.89      0.89      0.89        35\n",
      "\n"
     ]
    }
   ],
   "source": [
    "# xgb classifier\n",
    "clf = xgb.XGBClassifier(n_estimators=100, max_depth=3, learning_rate=0.1)\n",
    "clf.fit(orig_tr, train_labels)\n",
    "\n",
    "vanilla_predictions = clf.predict(orig_te)\n",
    "y_score = clf.predict_proba(orig_te)\n",
    "auprc = average_precision_score(test_labels, y_score[:,1])\n",
    "auroc = roc_auc_score(test_labels, y_score[:,1])\n",
    "\n",
    "print(\"Dataset : \", dataset, \" performance on the original data with a XGBT classifier\" )\n",
    "print(\" Accuracy : \", clf.score(orig_te, test_labels))\n",
    "print('AUROC: ', auroc)\n",
    "print('AUPRC: ', auprc) \n",
    "print(' result summary ')\n",
    "print(classification_report(test_labels, vanilla_predictions))"
   ]
  },
  {
   "cell_type": "code",
   "execution_count": 97,
   "id": "c34896cb",
   "metadata": {},
   "outputs": [
    {
     "name": "stdout",
     "output_type": "stream",
     "text": [
      "Dataset :  Darwin  performance on the learnt embeddings with a XGBT classifier\n",
      " Accuracy :  0.7142857142857143\n",
      "AUROC:  0.727124183006536\n",
      "AUPRC:  0.7055961141971204\n",
      " result summary \n",
      "              precision    recall  f1-score   support\n",
      "\n",
      "           0       0.77      0.59      0.67        17\n",
      "           1       0.68      0.83      0.75        18\n",
      "\n",
      "    accuracy                           0.71        35\n",
      "   macro avg       0.73      0.71      0.71        35\n",
      "weighted avg       0.72      0.71      0.71        35\n",
      "\n"
     ]
    }
   ],
   "source": [
    "# xgb classifier\n",
    "clf = xgb.XGBClassifier(n_estimators=100, max_depth=3, learning_rate=0.01)\n",
    "clf.fit(train_embeddings, train_labels)\n",
    "\n",
    "vanilla_predictions = clf.predict(test_embeddings)\n",
    "y_score = clf.predict_proba(test_embeddings)\n",
    "auprc = average_precision_score(test_labels, y_score[:,1])\n",
    "auroc = roc_auc_score(test_labels, y_score[:,1])\n",
    "\n",
    "print(\"Dataset : \", dataset, \" performance on the learnt embeddings with a XGBT classifier\" )\n",
    "print(\" Accuracy : \", clf.score(test_embeddings, test_labels))\n",
    "print('AUROC: ', auroc)\n",
    "print('AUPRC: ', auprc) \n",
    "print(' result summary ')\n",
    "print(classification_report(test_labels, vanilla_predictions))"
   ]
  },
  {
   "cell_type": "markdown",
   "id": "db80ff31",
   "metadata": {},
   "source": [
    "## Label noise robustness of the embeddings"
   ]
  },
  {
   "cell_type": "code",
   "execution_count": 98,
   "id": "c910fef6",
   "metadata": {},
   "outputs": [
    {
     "name": "stdout",
     "output_type": "stream",
     "text": [
      "True positive class prev :  0.5107913669064749\n",
      "True positive class prev :  0.49640287769784175\n"
     ]
    }
   ],
   "source": [
    "# corrupting the train labels with a fixed percentage of noise\n",
    "\n",
    "noise_rate = 0.1\n",
    "\n",
    "def induce_uniform_label_noise(labels, noise_probability):\n",
    "    \"\"\"\n",
    "    Induce uniform label noise in a dataset.\n",
    "\n",
    "    Parameters:\n",
    "    - labels: NumPy array or list containing the original labels.\n",
    "    - noise_probability: Probability of label noise (0.0 to 1.0).\n",
    "\n",
    "    Returns:\n",
    "    - Labels with induced noise.\n",
    "    \"\"\"\n",
    "    noisy_labels = labels.copy()\n",
    "    num_samples = len(labels)\n",
    "    num_classes = len(np.unique(labels))\n",
    "    \n",
    "    for i in range(num_samples):\n",
    "        # Generate a random value to determine if label noise should be added\n",
    "        if np.random.rand() < noise_probability:\n",
    "            # Choose a random class different from the original label\n",
    "            new_label = np.random.randint(0, num_classes)\n",
    "            noisy_labels[i] = new_label\n",
    "\n",
    "    return noisy_labels\n",
    "\n",
    "noisy_train_labels = induce_uniform_label_noise(train_labels.values, noise_probability=noise_rate)\n",
    "\n",
    "print(\"True positive class prev : \", train_labels.sum()/train_data.shape[0])\n",
    "print(\"True positive class prev : \", noisy_train_labels.sum()/train_data.shape[0])"
   ]
  },
  {
   "cell_type": "markdown",
   "id": "b9cbddde",
   "metadata": {},
   "source": [
    "## Training the classifiers on noisy data "
   ]
  },
  {
   "cell_type": "code",
   "execution_count": 99,
   "id": "8398687b",
   "metadata": {},
   "outputs": [
    {
     "name": "stdout",
     "output_type": "stream",
     "text": [
      "Dataset :  Darwin  performance on the original data with a RF classifier (trained on noisy labels)\n",
      " Accuracy :  0.8857142857142857\n",
      "AUROC:  0.9738562091503268\n",
      "AUPRC:  0.9765704771187228\n",
      " result summary \n",
      "              precision    recall  f1-score   support\n",
      "\n",
      "           0       0.93      0.82      0.87        17\n",
      "           1       0.85      0.94      0.89        18\n",
      "\n",
      "    accuracy                           0.89        35\n",
      "   macro avg       0.89      0.88      0.88        35\n",
      "weighted avg       0.89      0.89      0.89        35\n",
      "\n"
     ]
    }
   ],
   "source": [
    "# RF classifier \n",
    "clf_rf = RandomForestClassifier(max_depth=6, random_state=0)\n",
    "clf_rf.fit(orig_tr, noisy_train_labels)\n",
    "\n",
    "vanilla_predictions = clf_rf.predict(orig_te)\n",
    "y_score = clf_rf.predict_proba(orig_te)\n",
    "auprc = average_precision_score(test_labels, y_score[:,1])\n",
    "auroc = roc_auc_score(test_labels, y_score[:,1])\n",
    "\n",
    "print(\"Dataset : \", dataset, \" performance on the original data with a RF classifier (trained on noisy labels)\" )\n",
    "print(\" Accuracy : \", clf_rf.score(orig_te, test_labels))\n",
    "print('AUROC: ', auroc)\n",
    "print('AUPRC: ', auprc) \n",
    "print(' result summary ')\n",
    "print(classification_report(test_labels, vanilla_predictions))"
   ]
  },
  {
   "cell_type": "code",
   "execution_count": 100,
   "id": "7202f946",
   "metadata": {},
   "outputs": [
    {
     "name": "stdout",
     "output_type": "stream",
     "text": [
      "Dataset :  Darwin  performance on the learnt embeddings with a RF classifier (trained on noisy labels)\n",
      " Accuracy :  0.6285714285714286\n",
      "AUROC:  0.8104575163398693\n",
      "AUPRC:  0.866124140021199\n",
      " result summary \n",
      "              precision    recall  f1-score   support\n",
      "\n",
      "           0       0.70      0.41      0.52        17\n",
      "           1       0.60      0.83      0.70        18\n",
      "\n",
      "    accuracy                           0.63        35\n",
      "   macro avg       0.65      0.62      0.61        35\n",
      "weighted avg       0.65      0.63      0.61        35\n",
      "\n"
     ]
    }
   ],
   "source": [
    "# on the learnt embeddings\n",
    "\n",
    "clf_rf = RandomForestClassifier(max_depth=6, random_state=0)\n",
    "clf_rf.fit(train_embeddings, noisy_train_labels)\n",
    "\n",
    "vanilla_predictions = clf_rf.predict(test_embeddings)\n",
    "y_score = clf_rf.predict_proba(test_embeddings)\n",
    "auprc = average_precision_score(test_labels, y_score[:,1])\n",
    "auroc = roc_auc_score(test_labels, y_score[:,1])\n",
    "\n",
    "print(\"Dataset : \", dataset, \" performance on the learnt embeddings with a RF classifier (trained on noisy labels)\" )\n",
    "print(\" Accuracy : \", clf_rf.score(test_embeddings, test_labels))\n",
    "print('AUROC: ', auroc)\n",
    "print('AUPRC: ', auprc)\n",
    "print(' result summary ')\n",
    "print(classification_report(test_labels, vanilla_predictions))"
   ]
  },
  {
   "cell_type": "code",
   "execution_count": 101,
   "id": "4212535c",
   "metadata": {},
   "outputs": [
    {
     "name": "stdout",
     "output_type": "stream",
     "text": [
      "Dataset :  Darwin  performance on the original data with a XGBT classifier (trained on noisy labels)\n",
      " Accuracy :  0.8285714285714286\n",
      "AUROC:  0.9444444444444444\n",
      "AUPRC:  0.957242903602665\n",
      " result summary \n",
      "              precision    recall  f1-score   support\n",
      "\n",
      "           0       0.87      0.76      0.81        17\n",
      "           1       0.80      0.89      0.84        18\n",
      "\n",
      "    accuracy                           0.83        35\n",
      "   macro avg       0.83      0.83      0.83        35\n",
      "weighted avg       0.83      0.83      0.83        35\n",
      "\n"
     ]
    }
   ],
   "source": [
    "# xgb classifier\n",
    "clf = xgb.XGBClassifier(n_estimators=100, max_depth=3, learning_rate=0.1)\n",
    "clf.fit(orig_tr, noisy_train_labels)\n",
    "\n",
    "vanilla_predictions = clf.predict(orig_te)\n",
    "y_score = clf.predict_proba(orig_te)\n",
    "auprc = average_precision_score(test_labels, y_score[:,1])\n",
    "auroc = roc_auc_score(test_labels, y_score[:,1])\n",
    "\n",
    "print(\"Dataset : \", dataset, \" performance on the original data with a XGBT classifier (trained on noisy labels)\" )\n",
    "print(\" Accuracy : \", clf.score(orig_te, test_labels))\n",
    "print('AUROC: ', auroc)\n",
    "print('AUPRC: ', auprc) \n",
    "print(' result summary ')\n",
    "print(classification_report(test_labels, vanilla_predictions))"
   ]
  },
  {
   "cell_type": "code",
   "execution_count": 102,
   "id": "acc09e82",
   "metadata": {},
   "outputs": [
    {
     "name": "stdout",
     "output_type": "stream",
     "text": [
      "Dataset :  Darwin  performance on the learnt embeddings with a XGBT classifier (trained on noisy labels)\n",
      " Accuracy :  0.7428571428571429\n",
      "AUROC:  0.7483660130718954\n",
      "AUPRC:  0.7305230854858067\n",
      " result summary \n",
      "              precision    recall  f1-score   support\n",
      "\n",
      "           0       0.83      0.59      0.69        17\n",
      "           1       0.70      0.89      0.78        18\n",
      "\n",
      "    accuracy                           0.74        35\n",
      "   macro avg       0.76      0.74      0.74        35\n",
      "weighted avg       0.76      0.74      0.74        35\n",
      "\n"
     ]
    }
   ],
   "source": [
    "# xgb classifier\n",
    "clf = xgb.XGBClassifier(n_estimators=100, max_depth=3, learning_rate=0.1)\n",
    "clf.fit(train_embeddings, noisy_train_labels)\n",
    "\n",
    "vanilla_predictions = clf.predict(test_embeddings)\n",
    "y_score = clf.predict_proba(test_embeddings)\n",
    "auprc = average_precision_score(test_labels, y_score[:,1])\n",
    "auroc = roc_auc_score(test_labels, y_score[:,1])\n",
    "\n",
    "print(\"Dataset : \", dataset, \" performance on the learnt embeddings with a XGBT classifier (trained on noisy labels)\" )\n",
    "print(\" Accuracy : \", clf.score(test_embeddings, test_labels))\n",
    "print('AUROC: ', auroc)\n",
    "print('AUPRC: ', auprc) \n",
    "print(' result summary ')\n",
    "print(classification_report(test_labels, vanilla_predictions))"
   ]
  },
  {
   "cell_type": "markdown",
   "id": "276fbc85",
   "metadata": {},
   "source": [
    "## Exercises\n",
    "\n",
    "1) Since corruption rate is an important component of SCARF, does changing it change the downstream performance?\n",
    "\n",
    "2) Does using batchsize more than 128 learn better embeddding?\n",
    "\n",
    "3) What is the noise threshold where you observe that the embeddings based downstream classification worsens?"
   ]
  },
  {
   "cell_type": "code",
   "execution_count": null,
   "id": "1da58675",
   "metadata": {},
   "outputs": [],
   "source": []
  }
 ],
 "metadata": {
  "kernelspec": {
   "display_name": "Python 3 (ipykernel)",
   "language": "python",
   "name": "python3"
  },
  "language_info": {
   "codemirror_mode": {
    "name": "ipython",
    "version": 3
   },
   "file_extension": ".py",
   "mimetype": "text/x-python",
   "name": "python",
   "nbconvert_exporter": "python",
   "pygments_lexer": "ipython3",
   "version": "3.9.10"
  }
 },
 "nbformat": 4,
 "nbformat_minor": 5
}
