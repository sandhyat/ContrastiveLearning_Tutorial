{
 "cells": [
  {
   "cell_type": "markdown",
   "id": "6250ad4a",
   "metadata": {},
   "source": [
    "# SCARF: Self-Supervised Contrastive Learning using Random Feature Corruption"
   ]
  },
  {
   "cell_type": "markdown",
   "id": "2dc236cb",
   "metadata": {},
   "source": [
    "![image](SCARF_Schema.png)"
   ]
  },
  {
   "cell_type": "markdown",
   "id": "e7122cec",
   "metadata": {},
   "source": [
    "This file contains an implementation of SCARF on a publicly available [Darwin dataset](https://archive.ics.uci.edu/dataset/732/darwin). \n",
    "The dataset contains 451 features across 174 participants with 2 classes: Alzheimer's disease patients or healthy.\n",
    "The goal is to  learn a tabular data representation in an unsupervised or self-supervised such that the learnt representations can be good at the classification task.\n",
    "\n",
    "Adapted from [pytorch implementation of SCARF](https://github.com/clabrugere/pytorch-scarf/tree/master)."
   ]
  },
  {
   "cell_type": "code",
   "execution_count": 64,
   "id": "25c92ba0",
   "metadata": {},
   "outputs": [],
   "source": [
    "# importing packages\n",
    "import torch\n",
    "import torch.nn as nn\n",
    "import numpy as np\n",
    "import pandas as pd\n",
    "import random\n",
    "import os\n",
    "from torch.utils.data import Dataset, DataLoader\n",
    "from torch.optim import Adam\n",
    "from sklearn.linear_model import LogisticRegression\n",
    "from sklearn.metrics import (ConfusionMatrixDisplay, classification_report,\n",
    "                             confusion_matrix)\n",
    "from sklearn.model_selection import train_test_split\n",
    "from sklearn.preprocessing import StandardScaler\n",
    "from tqdm.auto import tqdm\n",
    "from scarf import scarf_model, loss\n",
    "from sklearn.manifold import TSNE\n",
    "import matplotlib.pyplot as plt\n"
   ]
  },
  {
   "cell_type": "code",
   "execution_count": 9,
   "id": "19eaab53",
   "metadata": {},
   "outputs": [
    {
     "name": "stdout",
     "output_type": "stream",
     "text": [
      "Current working directory is :  /home/trips/ContrastiveLearning_Tutorial/scarf\n"
     ]
    }
   ],
   "source": [
    "# check the current directory, set it as scarf\n",
    "if os.getcwd()!= '/home/trips/ContrastiveLearning_Tutorial/scarf':  # replace the path with your local path\n",
    "    os.chdir('/home/trips/ContrastiveLearning_Tutorial/scarf')\n",
    "print(\"Current working directory is : \", os.getcwd())"
   ]
  },
  {
   "cell_type": "code",
   "execution_count": 80,
   "id": "9dbef833",
   "metadata": {},
   "outputs": [],
   "source": [
    "# function for initial loading and processing of the dataset\n",
    "def load_dataset(dataset):\n",
    "    data_file = os.path.join('../Small_datasets', dataset, dataset + \".csv\")\n",
    "    df = pd.read_csv(data_file)\n",
    "    \n",
    "    # convert the target into numeric\n",
    "    df.loc[df['class']=='P','class']=1\n",
    "    df.loc[df['class']=='H','class']=0\n",
    "    \n",
    "    df['class'] = df['class'].astype(int)\n",
    "    df['class'] = df['class'].astype(int)\n",
    "    \n",
    "    data, target = df.iloc[:,1:], df.iloc[:,-1]  # first column is the id and last column is the target\n",
    "\n",
    "\n",
    "    train_data, test_data, train_target, test_target = train_test_split(\n",
    "        data, \n",
    "        target, \n",
    "        test_size=0.2, \n",
    "        stratify=target, \n",
    "        random_state=seed\n",
    "    )\n",
    "\n",
    "    # preprocess\n",
    "    constant_cols = [c for c in train_data.columns if train_data[c].nunique() == 1]\n",
    "    train_data.drop(columns=constant_cols, inplace=True)\n",
    "    test_data.drop(columns=constant_cols, inplace=True)\n",
    "\n",
    "    scaler = StandardScaler()\n",
    "    train_data = pd.DataFrame(scaler.fit_transform(train_data), columns=train_data.columns)\n",
    "    test_data = pd.DataFrame(scaler.transform(test_data), columns=test_data.columns)\n",
    "\n",
    "    # to torch dataset\n",
    "    train_ds = scarf_model.ExampleDataset(\n",
    "        train_data.to_numpy(), \n",
    "        train_target.to_numpy(), \n",
    "        columns=train_data.columns\n",
    "    )\n",
    "    test_ds = scarf_model.ExampleDataset(\n",
    "        test_data.to_numpy(), \n",
    "        test_data.to_numpy(), \n",
    "        columns=test_data.columns\n",
    "    )\n",
    "\n",
    "    print(f\"Train set: {train_ds.shape}\")\n",
    "    print(f\"Test set: {test_ds.shape}\")\n",
    "    train_ds.to_dataframe().head()\n",
    "\n",
    "    return train_data, train_ds, train_target,test_data, test_ds, test_target\n",
    "    "
   ]
  },
  {
   "cell_type": "code",
   "execution_count": 81,
   "id": "14dced58",
   "metadata": {},
   "outputs": [],
   "source": [
    "# initial setting and the dataset choice\n",
    "\n",
    "dataset = \"Darwin\" # dataset name\n",
    "batch_size=128\n",
    "epochs = 5000\n",
    "lr=0.001  # learning rate\n",
    "repr_dims=16  # representation dimension\n",
    "seed = 100  # random seed\n",
    "device = torch.device(\"cuda\" if torch.cuda.is_available() else \"cpu\")\n",
    "corruptionRate = 0.6"
   ]
  },
  {
   "cell_type": "code",
   "execution_count": 82,
   "id": "bd7ac6ab",
   "metadata": {},
   "outputs": [
    {
     "name": "stdout",
     "output_type": "stream",
     "text": [
      "Train set: (139, 451)\n",
      "Test set: (35, 451)\n",
      " Training data size :   (139, 451)\n",
      " Test data size :   (35, 451)\n"
     ]
    }
   ],
   "source": [
    "# loading data, orig_tr and orig_te is the form without anchor etc\n",
    "orig_tr, train_data, train_labels,orig_te, test_data, test_labels = load_dataset(dataset)\n",
    "\n",
    "# data dimensions \n",
    "print(\" Training data size :  \", train_data.shape)  # Number of samples * Length of the series * number of features\n",
    "print(\" Test data size :  \", test_data.shape)"
   ]
  },
  {
   "cell_type": "code",
   "execution_count": 59,
   "id": "fd305956",
   "metadata": {},
   "outputs": [],
   "source": [
    "# Setting up the data laoder and initializing the models\n",
    "train_loader = DataLoader(train_data, batch_size=batch_size, shuffle=True)\n",
    "\n",
    "model = scarf_model.SCARF(\n",
    "    input_dim=train_data.shape[1], \n",
    "    emb_dim=repr_dims,\n",
    "    corruption_rate=corruptionRate,\n",
    ").to(device)\n",
    "optimizer = Adam(model.parameters(), lr=lr)\n",
    "ntxent_loss = loss.NTXent()"
   ]
  },
  {
   "cell_type": "code",
   "execution_count": 60,
   "id": "51b5e792",
   "metadata": {},
   "outputs": [
    {
     "name": "stderr",
     "output_type": "stream",
     "text": [
      "                                                                                                                                                                                                                   \r"
     ]
    }
   ],
   "source": [
    "# fitting the model\n",
    "loss_history = []\n",
    "\n",
    "for epoch in range(1, epochs + 1):\n",
    "    epoch_loss = scarf_model.train_epoch(model, ntxent_loss, train_loader, optimizer, device, epoch)\n",
    "    loss_history.append(epoch_loss)"
   ]
  },
  {
   "cell_type": "code",
   "execution_count": 61,
   "id": "be486db5",
   "metadata": {},
   "outputs": [
    {
     "data": {
      "text/plain": [
       "Text(0, 0.5, 'loss')"
      ]
     },
     "execution_count": 61,
     "metadata": {},
     "output_type": "execute_result"
    },
    {
     "data": {
      "image/png": "[encoded data removed]",
      "text/plain": [
       "<Figure size 1152x576 with 1 Axes>"
      ]
     },
     "metadata": {
      "needs_background": "light"
     },
     "output_type": "display_data"
    }
   ],
   "source": [
    "fig, ax = plt.subplots(figsize=(16, 8))\n",
    "ax.plot(loss_history)\n",
    "ax.set_xlabel(\"epoch\")\n",
    "ax.set_ylabel(\"loss\")"
   ]
  },
  {
   "cell_type": "code",
   "execution_count": 62,
   "id": "dbac1c4e",
   "metadata": {},
   "outputs": [
    {
     "name": "stderr",
     "output_type": "stream",
     "text": [
      "100%|████████████████████████████████████████████████████████████████████████████████████████████████████████████████████████████████████████████████████████████████████████████████| 2/2 [00:00<00:00, 89.75it/s]\n",
      "100%|███████████████████████████████████████████████████████████████████████████████████████████████████████████████████████████████████████████████████████████████████████████████| 1/1 [00:00<00:00, 497.01it/s]"
     ]
    },
    {
     "name": "stdout",
     "output_type": "stream",
     "text": [
      "(139, 16)\n",
      "(35, 16)\n"
     ]
    },
    {
     "name": "stderr",
     "output_type": "stream",
     "text": [
      "\n"
     ]
    }
   ],
   "source": [
    "train_loader = DataLoader(train_data, batch_size=batch_size, shuffle=False)\n",
    "test_loader = DataLoader(test_data, batch_size=batch_size, shuffle=False)\n",
    "\n",
    "# get embeddings for training and test set\n",
    "train_embeddings = scarf_model.dataset_embeddings(model, train_loader, device)\n",
    "test_embeddings = scarf_model.dataset_embeddings(model, test_loader, device)\n",
    "\n",
    "print(train_embeddings.shape)\n",
    "print(test_embeddings.shape)"
   ]
  },
  {
   "cell_type": "markdown",
   "id": "39c85104",
   "metadata": {},
   "source": [
    "## Visualize the embeddings using t-sne"
   ]
  },
  {
   "cell_type": "code",
   "execution_count": 63,
   "id": "c9640207",
   "metadata": {},
   "outputs": [
    {
     "name": "stderr",
     "output_type": "stream",
     "text": [
      "/home/trips/Virtual_env_python/lib64/python3.9/site-packages/sklearn/manifold/_t_sne.py:991: FutureWarning: The PCA initialization in TSNE will change to have the standard deviation of PC1 equal to 1e-4 in 1.2. This will ensure better convergence.\n",
      "  warnings.warn(\n"
     ]
    },
    {
     "data": {
      "text/plain": [
       "<matplotlib.legend.Legend at 0x7f58156022b0>"
      ]
     },
     "execution_count": 63,
     "metadata": {},
     "output_type": "execute_result"
    },
    {
     "data": {
      "image/png": "[encoded data removed]",
      "text/plain": [
       "<Figure size 576x576 with 1 Axes>"
      ]
     },
     "metadata": {
      "needs_background": "light"
     },
     "output_type": "display_data"
    }
   ],
   "source": [
    "tsne = TSNE(n_components=2, learning_rate=\"auto\", init=\"pca\", perplexity=15)\n",
    "reduced = tsne.fit_transform(train_embeddings)\n",
    "positive = train_labels == 1\n",
    "\n",
    "fig, ax = plt.subplots(figsize=(8, 8))\n",
    "\n",
    "ax.scatter(reduced[positive, 0], reduced[positive, 1], label=\"positive\")\n",
    "ax.scatter(reduced[~positive, 0], reduced[~positive, 1], label=\"negative\")\n",
    "plt.legend()"
   ]
  },
  {
   "cell_type": "markdown",
   "id": "4f36aee2",
   "metadata": {},
   "source": [
    "## Linear evaluation"
   ]
  },
  {
   "cell_type": "code",
   "execution_count": 83,
   "id": "5e959770",
   "metadata": {},
   "outputs": [
    {
     "name": "stdout",
     "output_type": "stream",
     "text": [
      "              precision    recall  f1-score   support\n",
      "\n",
      "           0       0.93      0.76      0.84        17\n",
      "           1       0.81      0.94      0.87        18\n",
      "\n",
      "    accuracy                           0.86        35\n",
      "   macro avg       0.87      0.85      0.86        35\n",
      "weighted avg       0.87      0.86      0.86        35\n",
      "\n"
     ]
    },
    {
     "data": {
      "text/plain": [
       "<sklearn.metrics._plot.confusion_matrix.ConfusionMatrixDisplay at 0x7f57c8760160>"
      ]
     },
     "execution_count": 83,
     "metadata": {},
     "output_type": "execute_result"
    },
    {
     "data": {
      "image/png": "[encoded data removed]",
      "text/plain": [
       "<Figure size 576x576 with 2 Axes>"
      ]
     },
     "metadata": {
      "needs_background": "light"
     },
     "output_type": "display_data"
    }
   ],
   "source": [
    "# on the original dataset\n",
    "clf = LogisticRegression()\n",
    "\n",
    "# vanilla dataset: train the classifier on the original data\n",
    "clf.fit(orig_tr, train_labels)\n",
    "vanilla_predictions = clf.predict(orig_te)\n",
    "\n",
    "print(classification_report(test_labels, vanilla_predictions))\n",
    "cm = confusion_matrix(test_labels, vanilla_predictions)\n",
    "disp = ConfusionMatrixDisplay(confusion_matrix=cm)\n",
    "\n",
    "fig, ax = plt.subplots(figsize=(8, 8))\n",
    "disp.plot(ax=ax)\n"
   ]
  },
  {
   "cell_type": "code",
   "execution_count": 84,
   "id": "60042d86",
   "metadata": {},
   "outputs": [
    {
     "name": "stdout",
     "output_type": "stream",
     "text": [
      "              precision    recall  f1-score   support\n",
      "\n",
      "           0       1.00      0.65      0.79        17\n",
      "           1       0.75      1.00      0.86        18\n",
      "\n",
      "    accuracy                           0.83        35\n",
      "   macro avg       0.88      0.82      0.82        35\n",
      "weighted avg       0.87      0.83      0.82        35\n",
      "\n"
     ]
    },
    {
     "name": "stderr",
     "output_type": "stream",
     "text": [
      "/home/trips/Virtual_env_python/lib64/python3.9/site-packages/sklearn/linear_model/_logistic.py:444: ConvergenceWarning: lbfgs failed to converge (status=1):\n",
      "STOP: TOTAL NO. of ITERATIONS REACHED LIMIT.\n",
      "\n",
      "Increase the number of iterations (max_iter) or scale the data as shown in:\n",
      "    https://scikit-learn.org/stable/modules/preprocessing.html\n",
      "Please also refer to the documentation for alternative solver options:\n",
      "    https://scikit-learn.org/stable/modules/linear_model.html#logistic-regression\n",
      "  n_iter_i = _check_optimize_result(\n"
     ]
    },
    {
     "data": {
      "text/plain": [
       "<sklearn.metrics._plot.confusion_matrix.ConfusionMatrixDisplay at 0x7f57d4607d90>"
      ]
     },
     "execution_count": 84,
     "metadata": {},
     "output_type": "execute_result"
    },
    {
     "data": {
      "image/png": "[encoded data removed]",
      "text/plain": [
       "<Figure size 576x576 with 2 Axes>"
      ]
     },
     "metadata": {
      "needs_background": "light"
     },
     "output_type": "display_data"
    }
   ],
   "source": [
    "# on the learnt embeddings\n",
    "\n",
    "clf = LogisticRegression()\n",
    "\n",
    "# vanilla dataset: train the classifier on the original data\n",
    "clf.fit(train_embeddings, train_labels.values)\n",
    "vanilla_predictions = clf.predict(test_embeddings)\n",
    "\n",
    "print(classification_report(test_labels, vanilla_predictions))\n",
    "cm = confusion_matrix(test_labels, vanilla_predictions)\n",
    "disp = ConfusionMatrixDisplay(confusion_matrix=cm)\n",
    "\n",
    "fig, ax = plt.subplots(figsize=(8, 8))\n",
    "disp.plot(ax=ax)"
   ]
  },
  {
   "cell_type": "code",
   "execution_count": null,
   "id": "6963ca86",
   "metadata": {},
   "outputs": [],
   "source": []
  }
 ],
 "metadata": {
  "kernelspec": {
   "display_name": "Python 3 (ipykernel)",
   "language": "python",
   "name": "python3"
  },
  "language_info": {
   "codemirror_mode": {
    "name": "ipython",
    "version": 3
   },
   "file_extension": ".py",
   "mimetype": "text/x-python",
   "name": "python",
   "nbconvert_exporter": "python",
   "pygments_lexer": "ipython3",
   "version": "3.9.10"
  }
 },
 "nbformat": 4,
 "nbformat_minor": 5
}
