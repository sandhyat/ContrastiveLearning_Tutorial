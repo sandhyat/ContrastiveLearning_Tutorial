{
 "cells": [
  {
   "cell_type": "markdown",
   "id": "b588bcda",
   "metadata": {},
   "source": [
    "# TS2Vec based time series representation"
   ]
  },
  {
   "cell_type": "markdown",
   "id": "5ed3f979",
   "metadata": {},
   "source": [
    "![image](TS2Vec_schema.png)"
   ]
  },
  {
   "cell_type": "markdown",
   "id": "9fd72217",
   "metadata": {},
   "source": [
    "This file contains an implementation of TS2Vec on a publicly available [ECG200 dataset](https://www.timeseriesclassification.com/description.php?Dataset=ECG200). \n",
    "The dataset contains one time series feature of length 96 and 2 classes.\n",
    "The goal is to  learn a time series representation in an unsupervised or self-supervised such that the learnt representations can be good at the classification task.\n",
    "\n",
    "Adapted from [official repo of TS2VEC](https://github.com/yuezhihan/ts2vec)."
   ]
  },
  {
   "cell_type": "code",
   "execution_count": 73,
   "id": "fa02309d",
   "metadata": {},
   "outputs": [],
   "source": [
    "# importing packages\n",
    "import os\n",
    "import numpy as np\n",
    "import pandas as pd\n",
    "import math\n",
    "import argparse\n",
    "import random\n",
    "import matplotlib.pyplot as plt\n",
    "import json\n",
    "import time\n",
    "import datetime\n",
    "from ts2vec import TS2Vec\n",
    "from tasks import eval_classification\n",
    "import datautils\n",
    "from utils import init_dl_program, name_with_datetime, pkl_save, data_dropout\n",
    "from sklearn.manifold import TSNE"
   ]
  },
  {
   "cell_type": "code",
   "execution_count": 75,
   "id": "b947b456",
   "metadata": {},
   "outputs": [
    {
     "name": "stdout",
     "output_type": "stream",
     "text": [
      "Current working directory is :  /home/trips/ContrastiveLearning_Tutorial/ts2vec\n"
     ]
    }
   ],
   "source": [
    "# check the current directory, set it as ts2vec\n",
    "if os.getcwd()!= '/home/trips/ContrastiveLearning_Tutorial/ts2vec':  # replace the path with your local path\n",
    "    os.chdir('/home/trips/ContrastiveLearning_Tutorial/ts2vec')\n",
    "print(\"Current working directory is : \", os.getcwd())"
   ]
  },
  {
   "cell_type": "code",
   "execution_count": 76,
   "id": "f55c3063",
   "metadata": {},
   "outputs": [],
   "source": [
    "# function for initial loading and processing of the dataset\n",
    "def load_UCR(dataset):\n",
    "    train_file = os.path.join('../Small_datasets', dataset, dataset + \"_TRAIN.tsv\")\n",
    "    test_file = os.path.join('../Small_datasets', dataset, dataset + \"_TEST.tsv\")\n",
    "    train_df = pd.read_csv(train_file, sep='\\t', header=None)\n",
    "    test_df = pd.read_csv(test_file, sep='\\t', header=None)\n",
    "    train_array = np.array(train_df)\n",
    "    test_array = np.array(test_df)\n",
    "\n",
    "    # Move the labels to {0, ..., L-1}\n",
    "    labels = np.unique(train_array[:, 0])\n",
    "    transform = {}\n",
    "    for i, l in enumerate(labels):\n",
    "        transform[l] = i\n",
    "\n",
    "    train = train_array[:, 1:].astype(np.float64)\n",
    "    train_labels = np.vectorize(transform.get)(train_array[:, 0])\n",
    "    test = test_array[:, 1:].astype(np.float64)\n",
    "    test_labels = np.vectorize(transform.get)(test_array[:, 0])\n",
    "\n",
    "    # Normalization for non-normalized datasets\n",
    "    # To keep the amplitude information, we do not normalize values over\n",
    "    # individual time series, but on the whole dataset\n",
    "    if dataset not in [\n",
    "        'AllGestureWiimoteX',\n",
    "        'AllGestureWiimoteY',\n",
    "        'AllGestureWiimoteZ',\n",
    "        'BME',\n",
    "        'Chinatown',\n",
    "        'Crop',\n",
    "        'EOGHorizontalSignal',\n",
    "        'EOGVerticalSignal',\n",
    "        'Fungi',\n",
    "        'GestureMidAirD1',\n",
    "        'GestureMidAirD2',\n",
    "        'GestureMidAirD3',\n",
    "        'GesturePebbleZ1',\n",
    "        'GesturePebbleZ2',\n",
    "        'GunPointAgeSpan',\n",
    "        'GunPointMaleVersusFemale',\n",
    "        'GunPointOldVersusYoung',\n",
    "        'HouseTwenty',\n",
    "        'InsectEPGRegularTrain',\n",
    "        'InsectEPGSmallTrain',\n",
    "        'MelbournePedestrian',\n",
    "        'PickupGestureWiimoteZ',\n",
    "        'PigAirwayPressure',\n",
    "        'PigArtPressure',\n",
    "        'PigCVP',\n",
    "        'PLAID',\n",
    "        'PowerCons',\n",
    "        'Rock',\n",
    "        'SemgHandGenderCh2',\n",
    "        'SemgHandMovementCh2',\n",
    "        'SemgHandSubjectCh2',\n",
    "        'ShakeGestureWiimoteZ',\n",
    "        'SmoothSubspace',\n",
    "        'UMD'\n",
    "    ]:\n",
    "        return train[..., np.newaxis], train_labels, test[..., np.newaxis], test_labels\n",
    "    \n",
    "    mean = np.nanmean(train)\n",
    "    std = np.nanstd(train)\n",
    "    train = (train - mean) / std\n",
    "    test = (test - mean) / std\n",
    "    return train[..., np.newaxis], train_labels, test[..., np.newaxis], test_labels"
   ]
  },
  {
   "cell_type": "code",
   "execution_count": 64,
   "id": "6f5eebe8",
   "metadata": {},
   "outputs": [],
   "source": [
    "# initial setting and the dataset choice\n",
    "\n",
    "dataset = \"ECG200\" # dataset name\n",
    "run_name = \"ECG200_output\"  # output data directory\n",
    "gpu = 0  # what number gpu to use\n",
    "batch_size=8  \n",
    "lr=0.001  # learning rate\n",
    "repr_dims=320  # representation dimension\n",
    "max_train_length = 3000  # sequence with a length greater than max_train_length would be croppped\n",
    "seed = 100  # random seed\n",
    "eval = True  # whether to perform evaluation after training\n",
    "task_type = 'classification' # evaluation task\n",
    "irregular = 0 # initial missing observation ratio"
   ]
  },
  {
   "cell_type": "code",
   "execution_count": 65,
   "id": "f07f3ac2",
   "metadata": {},
   "outputs": [
    {
     "name": "stdout",
     "output_type": "stream",
     "text": [
      "cuda:0\n"
     ]
    }
   ],
   "source": [
    "# identifying the device\n",
    "device = init_dl_program(gpu, seed=seed)\n",
    "print(device)"
   ]
  },
  {
   "cell_type": "code",
   "execution_count": 66,
   "id": "5f2e3981",
   "metadata": {},
   "outputs": [
    {
     "name": "stdout",
     "output_type": "stream",
     "text": [
      " Training data size :   (100, 96, 1)\n",
      " Test data size :   (100, 96, 1)\n"
     ]
    }
   ],
   "source": [
    "# loading data\n",
    "train_data, train_labels, test_data, test_labels = load_UCR(dataset)\n",
    "\n",
    "# data dimensions \n",
    "print(\" Training data size :  \", train_data.shape)  # Number of samples * Length of the series * number of features\n",
    "print(\" Test data size :  \", test_data.shape)"
   ]
  },
  {
   "cell_type": "code",
   "execution_count": 67,
   "id": "193f4a64",
   "metadata": {},
   "outputs": [
    {
     "name": "stdout",
     "output_type": "stream",
     "text": [
      "done\n"
     ]
    }
   ],
   "source": [
    "# whether to add missingness to the data or not\n",
    "if irregular > 0:\n",
    "    if task_type == 'classification':\n",
    "        train_data = data_dropout(train_data, irregular)\n",
    "        test_data = data_dropout(test_data, irregular)\n",
    "    else:\n",
    "        raise ValueError(f\"Task type {task_type} is not supported when irregular>0.\")\n",
    "print('done')"
   ]
  },
  {
   "cell_type": "code",
   "execution_count": 68,
   "id": "82c29d06",
   "metadata": {},
   "outputs": [],
   "source": [
    "# saving the output models\n",
    "run_dir = './training/' + dataset + '__' + name_with_datetime(run_name)\n",
    "os.makedirs(run_dir, exist_ok=True)"
   ]
  },
  {
   "cell_type": "code",
   "execution_count": 69,
   "id": "479b9f9d",
   "metadata": {},
   "outputs": [],
   "source": [
    "config = dict(\n",
    "    batch_size=batch_size,\n",
    "    lr=lr,\n",
    "    output_dims=repr_dims,\n",
    "    max_train_length=max_train_length\n",
    ")\n",
    "t = time.time()"
   ]
  },
  {
   "cell_type": "code",
   "execution_count": 70,
   "id": "431a476a",
   "metadata": {},
   "outputs": [
    {
     "name": "stdout",
     "output_type": "stream",
     "text": [
      "Epoch #0: loss=5.793830414613088\n",
      "Epoch #1: loss=2.430328090985616\n",
      "Epoch #2: loss=2.1744327346483865\n",
      "Epoch #3: loss=2.0398612121740975\n",
      "Epoch #4: loss=2.0319058001041412\n",
      "Epoch #5: loss=1.93396923939387\n",
      "Epoch #6: loss=1.9788636565208435\n",
      "Epoch #7: loss=1.8434793949127197\n",
      "Epoch #8: loss=1.831672191619873\n",
      "Epoch #9: loss=1.7620827158292134\n",
      "Epoch #10: loss=1.764383872350057\n",
      "Epoch #11: loss=1.6286860009034474\n",
      "Epoch #12: loss=1.8195396065711975\n",
      "Epoch #13: loss=1.7917581995328267\n",
      "Epoch #14: loss=1.7114560703436534\n",
      "Epoch #15: loss=1.6288898487885792\n",
      "\n",
      "Training time: 0:00:09.824257\n",
      "\n"
     ]
    }
   ],
   "source": [
    "# training the model\n",
    "model = TS2Vec(\n",
    "    input_dims=train_data.shape[-1],\n",
    "    device=device,\n",
    "    **config\n",
    ")\n",
    "loss_log = model.fit(\n",
    "    train_data,\n",
    "    verbose=True\n",
    ")\n",
    "model.save(f'{run_dir}/model.pkl')\n",
    "\n",
    "t = time.time() - t\n",
    "print(f\"\\nTraining time: {datetime.timedelta(seconds=t)}\\n\")"
   ]
  },
  {
   "cell_type": "code",
   "execution_count": 71,
   "id": "63074009",
   "metadata": {},
   "outputs": [],
   "source": [
    "# obtain the train and test data embeddings\n",
    "train_repr = model.encode(train_data, encoding_window='full_series' if train_labels.ndim == 1 else None)\n",
    "test_repr = model.encode(test_data, encoding_window='full_series' if train_labels.ndim == 1 else None)"
   ]
  },
  {
   "cell_type": "markdown",
   "id": "7878c9d1",
   "metadata": {},
   "source": [
    "## Visualize the embeddings using t-sne"
   ]
  },
  {
   "cell_type": "code",
   "execution_count": 74,
   "id": "60316bd6",
   "metadata": {},
   "outputs": [
    {
     "name": "stderr",
     "output_type": "stream",
     "text": [
      "/home/trips/Virtual_env_python/lib64/python3.9/site-packages/sklearn/manifold/_t_sne.py:991: FutureWarning: The PCA initialization in TSNE will change to have the standard deviation of PC1 equal to 1e-4 in 1.2. This will ensure better convergence.\n",
      "  warnings.warn(\n"
     ]
    },
    {
     "data": {
      "text/plain": [
       "<matplotlib.legend.Legend at 0x7fe215ebc670>"
      ]
     },
     "execution_count": 74,
     "metadata": {},
     "output_type": "execute_result"
    },
    {
     "data": {
      "image/png": "[encoded data removed]",
      "text/plain": [
       "<Figure size 576x576 with 1 Axes>"
      ]
     },
     "metadata": {
      "needs_background": "light"
     },
     "output_type": "display_data"
    }
   ],
   "source": [
    "tsne = TSNE(n_components=2, learning_rate=\"auto\", init=\"pca\", perplexity=15)\n",
    "reduced = tsne.fit_transform(train_repr)\n",
    "positive = train_labels == 1\n",
    "\n",
    "fig, ax = plt.subplots(figsize=(8, 8))\n",
    "\n",
    "ax.scatter(reduced[positive, 0], reduced[positive, 1], label=\"positive\")\n",
    "ax.scatter(reduced[~positive, 0], reduced[~positive, 1], label=\"negative\")\n",
    "plt.legend()"
   ]
  },
  {
   "cell_type": "markdown",
   "id": "d2366472",
   "metadata": {},
   "source": [
    "## Linear evaluation"
   ]
  },
  {
   "cell_type": "code",
   "execution_count": 56,
   "id": "2b153aaf",
   "metadata": {},
   "outputs": [
    {
     "ename": "TypeError",
     "evalue": "eval_classification() missing 2 required positional arguments: 'includePreops' and 'outcome'",
     "output_type": "error",
     "traceback": [
      "\u001b[0;31m---------------------------------------------------------------------------\u001b[0m",
      "\u001b[0;31mTypeError\u001b[0m                                 Traceback (most recent call last)",
      "Input \u001b[0;32mIn [56]\u001b[0m, in \u001b[0;36m<cell line: 2>\u001b[0;34m()\u001b[0m\n\u001b[1;32m      1\u001b[0m \u001b[38;5;66;03m# Linear evaluation of the model\u001b[39;00m\n\u001b[0;32m----> 2\u001b[0m out, eval_res \u001b[38;5;241m=\u001b[39m \u001b[43meval_classification\u001b[49m\u001b[43m(\u001b[49m\u001b[43mmodel\u001b[49m\u001b[43m,\u001b[49m\u001b[43m \u001b[49m\u001b[43mtrain_data\u001b[49m\u001b[43m,\u001b[49m\u001b[43m \u001b[49m\u001b[43mtrain_labels\u001b[49m\u001b[43m,\u001b[49m\u001b[43m \u001b[49m\u001b[43mtest_data\u001b[49m\u001b[43m,\u001b[49m\u001b[43m \u001b[49m\u001b[43mtest_labels\u001b[49m\u001b[43m,\u001b[49m\u001b[43m \u001b[49m\u001b[43meval_protocol\u001b[49m\u001b[38;5;241;43m=\u001b[39;49m\u001b[38;5;124;43m'\u001b[39;49m\u001b[38;5;124;43msvm\u001b[39;49m\u001b[38;5;124;43m'\u001b[39;49m\u001b[43m)\u001b[49m\n",
      "\u001b[0;31mTypeError\u001b[0m: eval_classification() missing 2 required positional arguments: 'includePreops' and 'outcome'"
     ]
    }
   ],
   "source": [
    "# Linear evaluation of the model\n",
    "out, eval_res = eval_classification(model, train_data, train_labels, test_data, test_labels, eval_protocol='svm')"
   ]
  },
  {
   "cell_type": "code",
   "execution_count": 57,
   "id": "a0b95eeb",
   "metadata": {},
   "outputs": [
    {
     "data": {
      "text/plain": [
       "<function tasks.classification.eval_classification(model, train_data, train_labels, test_data, test_labels, includePreops, outcome, eval_protocol='xgbt')>"
      ]
     },
     "execution_count": 57,
     "metadata": {},
     "output_type": "execute_result"
    }
   ],
   "source": [
    "eval_classification"
   ]
  },
  {
   "cell_type": "code",
   "execution_count": 58,
   "id": "0ffb3a7d",
   "metadata": {},
   "outputs": [
    {
     "data": {
      "text/plain": [
       "'/home/trips/ContrastiveLearning_Tutorial/ts2vec'"
      ]
     },
     "execution_count": 58,
     "metadata": {},
     "output_type": "execute_result"
    }
   ],
   "source": [
    "pwd"
   ]
  },
  {
   "cell_type": "code",
   "execution_count": 59,
   "id": "1499b1b5",
   "metadata": {},
   "outputs": [
    {
     "data": {
      "text/plain": [
       "ts2vec.TS2Vec"
      ]
     },
     "execution_count": 59,
     "metadata": {},
     "output_type": "execute_result"
    }
   ],
   "source": [
    "TS2Vec"
   ]
  },
  {
   "cell_type": "code",
   "execution_count": null,
   "id": "b47d135d",
   "metadata": {},
   "outputs": [],
   "source": []
  }
 ],
 "metadata": {
  "kernelspec": {
   "display_name": "Python 3 (ipykernel)",
   "language": "python",
   "name": "python3"
  },
  "language_info": {
   "codemirror_mode": {
    "name": "ipython",
    "version": 3
   },
   "file_extension": ".py",
   "mimetype": "text/x-python",
   "name": "python",
   "nbconvert_exporter": "python",
   "pygments_lexer": "ipython3",
   "version": "3.9.10"
  }
 },
 "nbformat": 4,
 "nbformat_minor": 5
}
