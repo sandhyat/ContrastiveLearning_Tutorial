{
 "cells": [
  {
   "cell_type": "markdown",
   "id": "b588bcda",
   "metadata": {},
   "source": [
    "# TS2Vec based time series representation"
   ]
  },
  {
   "cell_type": "markdown",
   "id": "5ed3f979",
   "metadata": {},
   "source": [
    "![image](TS2Vec_schema.png)"
   ]
  },
  {
   "cell_type": "markdown",
   "id": "9fd72217",
   "metadata": {},
   "source": [
    "This file contains an implementation of TS2Vec on two publicly available datasets: [ECG200 dataset](https://www.timeseriesclassification.com/description.php?Dataset=ECG200) and [CharacterTrajectories](https://archive.ics.uci.edu/dataset/175/character+trajectories). \n",
    "\n",
    "ECG200 dataset contains one time series feature of length 96 and 2 classes.\n",
    "\n",
    "CharacterTrajectories dataset contains 3 time series features of length 182 and 20 classes.\n",
    "\n",
    "The goal is to  learn a time series representation in an unsupervised or self-supervised manner such that the learnt representations can be good at the classification task.\n",
    "\n",
    "Adapted from [official repo of TS2VEC](https://github.com/yuezhihan/ts2vec)."
   ]
  },
  {
   "cell_type": "code",
   "execution_count": 1,
   "id": "b947b456",
   "metadata": {},
   "outputs": [
    {
     "name": "stdout",
     "output_type": "stream",
     "text": [
      "Current working directory is :  /home/trips/ContrastiveLearning_Tutorial/ts2vec\n"
     ]
    }
   ],
   "source": [
    "# check the current directory, set it as ts2vec\n",
    "import os\n",
    "\n",
    "if os.getcwd()!= '/home/trips/ContrastiveLearning_Tutorial/ts2vec':  # replace the path with your local path\n",
    "    os.chdir('/home/trips/ContrastiveLearning_Tutorial/ts2vec')\n",
    "print(\"Current working directory is : \", os.getcwd())"
   ]
  },
  {
   "cell_type": "code",
   "execution_count": 2,
   "id": "fa02309d",
   "metadata": {},
   "outputs": [
    {
     "name": "stderr",
     "output_type": "stream",
     "text": [
      "/home/trips/Virtual_env_python/lib64/python3.9/site-packages/tqdm/auto.py:22: TqdmWarning: IProgress not found. Please update jupyter and ipywidgets. See https://ipywidgets.readthedocs.io/en/stable/user_install.html\n",
      "  from .autonotebook import tqdm as notebook_tqdm\n"
     ]
    }
   ],
   "source": [
    "# importing packages\n",
    "import os\n",
    "import numpy as np\n",
    "import pandas as pd\n",
    "import math\n",
    "import argparse\n",
    "import random\n",
    "import matplotlib.pyplot as plt\n",
    "import json\n",
    "import time\n",
    "import datetime\n",
    "from ts2vec_model import TS2Vec\n",
    "from tasks import eval_classification\n",
    "import datautils\n",
    "from utils import init_dl_program, name_with_datetime, pkl_save, data_dropout\n",
    "from sklearn.manifold import TSNE\n",
    "from scipy.io.arff import loadarff\n",
    "from sklearn.preprocessing import StandardScaler, MinMaxScaler\n",
    "from sklearn.preprocessing import label_binarize\n",
    "import matplotlib.cm as cm"
   ]
  },
  {
   "cell_type": "code",
   "execution_count": 3,
   "id": "f55c3063",
   "metadata": {},
   "outputs": [],
   "source": [
    "# function for initial loading and processing of the dataset\n",
    "def load_UEA(dataset):\n",
    "    train_data = loadarff(f'../Small_datasets/{dataset}/{dataset}_TRAIN.arff')[0]\n",
    "    test_data = loadarff(f'../Small_datasets/{dataset}/{dataset}_TEST.arff')[0]\n",
    "    \n",
    "    def extract_data(data):\n",
    "        res_data = []\n",
    "        res_labels = []\n",
    "        for t_data, t_label in data:\n",
    "            t_data = np.array([ d.tolist() for d in t_data ])\n",
    "            t_label = t_label.decode(\"utf-8\")\n",
    "            res_data.append(t_data)\n",
    "            res_labels.append(t_label)\n",
    "        return np.array(res_data).swapaxes(1, 2), np.array(res_labels)\n",
    "    \n",
    "    train_X, train_y = extract_data(train_data)\n",
    "    test_X, test_y = extract_data(test_data)\n",
    "    \n",
    "    scaler = StandardScaler()\n",
    "    scaler.fit(train_X.reshape(-1, train_X.shape[-1]))\n",
    "    train_X = scaler.transform(train_X.reshape(-1, train_X.shape[-1])).reshape(train_X.shape)\n",
    "    test_X = scaler.transform(test_X.reshape(-1, test_X.shape[-1])).reshape(test_X.shape)\n",
    "    \n",
    "    labels = np.unique(train_y)\n",
    "    transform = { k : i for i, k in enumerate(labels)}\n",
    "    train_y = np.vectorize(transform.get)(train_y)\n",
    "    test_y = np.vectorize(transform.get)(test_y)\n",
    "    return train_X, train_y, test_X, test_y\n",
    "\n",
    "def load_UCR(dataset):\n",
    "    train_file = os.path.join('../Small_datasets', dataset, dataset + \"_TRAIN.tsv\")\n",
    "    test_file = os.path.join('../Small_datasets', dataset, dataset + \"_TEST.tsv\")\n",
    "    train_df = pd.read_csv(train_file, sep='\\t', header=None)\n",
    "    test_df = pd.read_csv(test_file, sep='\\t', header=None)\n",
    "    train_array = np.array(train_df)\n",
    "    test_array = np.array(test_df)\n",
    "\n",
    "    # Move the labels to {0, ..., L-1}\n",
    "    labels = np.unique(train_array[:, 0])\n",
    "    transform = {}\n",
    "    for i, l in enumerate(labels):\n",
    "        transform[l] = i\n",
    "\n",
    "    train = train_array[:, 1:].astype(np.float64)\n",
    "    train_labels = np.vectorize(transform.get)(train_array[:, 0])\n",
    "    test = test_array[:, 1:].astype(np.float64)\n",
    "    test_labels = np.vectorize(transform.get)(test_array[:, 0])\n",
    "\n",
    "    # Normalization for non-normalized datasets\n",
    "    # To keep the amplitude information, we do not normalize values over\n",
    "    # individual time series, but on the whole dataset\n",
    "    if dataset not in [\n",
    "        'AllGestureWiimoteX',\n",
    "        'AllGestureWiimoteY',\n",
    "        'AllGestureWiimoteZ',\n",
    "        'BME',\n",
    "        'Chinatown',\n",
    "        'Crop',\n",
    "        'EOGHorizontalSignal',\n",
    "        'EOGVerticalSignal',\n",
    "        'Fungi',\n",
    "        'GestureMidAirD1',\n",
    "        'GestureMidAirD2',\n",
    "        'GestureMidAirD3',\n",
    "        'GesturePebbleZ1',\n",
    "        'GesturePebbleZ2',\n",
    "        'GunPointAgeSpan',\n",
    "        'GunPointMaleVersusFemale',\n",
    "        'GunPointOldVersusYoung',\n",
    "        'HouseTwenty',\n",
    "        'InsectEPGRegularTrain',\n",
    "        'InsectEPGSmallTrain',\n",
    "        'MelbournePedestrian',\n",
    "        'PickupGestureWiimoteZ',\n",
    "        'PigAirwayPressure',\n",
    "        'PigArtPressure',\n",
    "        'PigCVP',\n",
    "        'PLAID',\n",
    "        'PowerCons',\n",
    "        'Rock',\n",
    "        'SemgHandGenderCh2',\n",
    "        'SemgHandMovementCh2',\n",
    "        'SemgHandSubjectCh2',\n",
    "        'ShakeGestureWiimoteZ',\n",
    "        'SmoothSubspace',\n",
    "        'UMD'\n",
    "    ]:\n",
    "        return train[..., np.newaxis], train_labels, test[..., np.newaxis], test_labels\n",
    "    \n",
    "    mean = np.nanmean(train)\n",
    "    std = np.nanstd(train)\n",
    "    train = (train - mean) / std\n",
    "    test = (test - mean) / std\n",
    "    return train[..., np.newaxis], train_labels, test[..., np.newaxis], test_labels"
   ]
  },
  {
   "cell_type": "code",
   "execution_count": 222,
   "id": "6f5eebe8",
   "metadata": {},
   "outputs": [],
   "source": [
    "# initial setting and the dataset choice\n",
    "\n",
    "dataset = \"ECG200\" # dataset name  \"other option is CharacterTrajectories\"\n",
    "run_name = dataset+\"_output\"  # output data directory, \n",
    "gpu = 0  # what number gpu to use\n",
    "batch_size=8  \n",
    "lr=0.001  # learning rate\n",
    "repr_dims=320  # representation dimension\n",
    "max_train_length = 3000  # sequence with a length greater than max_train_length would be croppped\n",
    "seed = 100  # random seed\n",
    "task_type = 'classification' # evaluation task\n",
    "irregular = 0.0 # initial missing observation ratio"
   ]
  },
  {
   "cell_type": "code",
   "execution_count": 223,
   "id": "f07f3ac2",
   "metadata": {},
   "outputs": [
    {
     "name": "stdout",
     "output_type": "stream",
     "text": [
      "cuda:0\n"
     ]
    }
   ],
   "source": [
    "# identifying the device\n",
    "device = init_dl_program(gpu, seed=seed)\n",
    "print(device)"
   ]
  },
  {
   "cell_type": "code",
   "execution_count": 224,
   "id": "5f2e3981",
   "metadata": {},
   "outputs": [
    {
     "name": "stdout",
     "output_type": "stream",
     "text": [
      " Dataset name :  ECG200\n",
      " Training data size :   (100, 96, 1)\n",
      " Test data size :   (100, 96, 1)\n"
     ]
    }
   ],
   "source": [
    "\n",
    "# loading data\n",
    "if dataset ==\"ECG200\":\n",
    "    train_data, train_labels, test_data, test_labels = load_UCR(dataset)\n",
    "elif dataset =='CharacterTrajectories':\n",
    "    train_data, train_labels, test_data, test_labels = load_UEA(dataset)\n",
    "\n",
    "# data dimensions \n",
    "print(\" Dataset name : \", dataset)\n",
    "print(\" Training data size :  \", train_data.shape)  # Number of samples * Length of the series * number of features\n",
    "print(\" Test data size :  \", test_data.shape)"
   ]
  },
  {
   "cell_type": "code",
   "execution_count": 225,
   "id": "193f4a64",
   "metadata": {},
   "outputs": [
    {
     "name": "stdout",
     "output_type": "stream",
     "text": [
      "done\n"
     ]
    }
   ],
   "source": [
    "# whether to add missingness to the data or not\n",
    "if irregular > 0:\n",
    "    if task_type == 'classification':\n",
    "        train_data = data_dropout(train_data, irregular)\n",
    "        test_data = data_dropout(test_data, irregular)\n",
    "    else:\n",
    "        raise ValueError(f\"Task type {task_type} is not supported when irregular>0.\")\n",
    "print('done')"
   ]
  },
  {
   "cell_type": "code",
   "execution_count": 226,
   "id": "82c29d06",
   "metadata": {},
   "outputs": [],
   "source": [
    "# saving the output models\n",
    "run_dir = './training/' + dataset + '__' + name_with_datetime(run_name)\n",
    "os.makedirs(run_dir, exist_ok=True)"
   ]
  },
  {
   "cell_type": "code",
   "execution_count": 227,
   "id": "479b9f9d",
   "metadata": {},
   "outputs": [],
   "source": [
    "# tunable model parameters\n",
    "config = dict(\n",
    "    batch_size=batch_size,\n",
    "    lr=lr,\n",
    "    output_dims=repr_dims,\n",
    "    max_train_length=max_train_length\n",
    ")\n",
    "t = time.time()"
   ]
  },
  {
   "cell_type": "markdown",
   "id": "63140505",
   "metadata": {},
   "source": [
    "## Training the contrastive model"
   ]
  },
  {
   "cell_type": "code",
   "execution_count": 228,
   "id": "431a476a",
   "metadata": {},
   "outputs": [
    {
     "name": "stdout",
     "output_type": "stream",
     "text": [
      "Epoch #0: loss=5.7938306132952375\n",
      "Epoch #1: loss=2.4303279916445413\n",
      "Epoch #2: loss=2.1744321982065835\n",
      "Epoch #3: loss=2.0398649672667184\n",
      "Epoch #4: loss=2.0319308936595917\n",
      "Epoch #5: loss=1.93396990497907\n",
      "Epoch #6: loss=1.9789559443791707\n",
      "Epoch #7: loss=1.8434029122193654\n",
      "Epoch #8: loss=1.8314130703608196\n",
      "Epoch #9: loss=1.762201448281606\n",
      "Epoch #10: loss=1.7647224466005962\n",
      "Epoch #11: loss=1.6285368204116821\n",
      "Epoch #12: loss=1.8184629678726196\n",
      "Epoch #13: loss=1.7900168001651764\n",
      "Epoch #14: loss=1.7120609283447266\n",
      "Epoch #15: loss=1.6289512813091278\n",
      "\n",
      "Training time: 0:00:09.992579\n",
      "\n"
     ]
    }
   ],
   "source": [
    "# training the model\n",
    "model = TS2Vec(\n",
    "    input_dims=train_data.shape[-1],\n",
    "    device=device,\n",
    "    **config\n",
    ")\n",
    "loss_log = model.fit(\n",
    "    train_data,\n",
    "    temperature=1,\n",
    "    verbose=True\n",
    ")\n",
    "model.save(f'{run_dir}/model.pkl')\n",
    "\n",
    "t = time.time() - t\n",
    "print(f\"\\nTraining time: {datetime.timedelta(seconds=t)}\\n\")"
   ]
  },
  {
   "cell_type": "code",
   "execution_count": 229,
   "id": "63074009",
   "metadata": {},
   "outputs": [],
   "source": [
    "# obtain the train and test data embeddings\n",
    "train_repr = model.encode(train_data, encoding_window='full_series' if train_labels.ndim == 1 else None)\n",
    "test_repr = model.encode(test_data, encoding_window='full_series' if train_labels.ndim == 1 else None)"
   ]
  },
  {
   "cell_type": "markdown",
   "id": "7878c9d1",
   "metadata": {},
   "source": [
    "## Visualize the embeddings using t-sne"
   ]
  },
  {
   "cell_type": "code",
   "execution_count": 230,
   "id": "60316bd6",
   "metadata": {},
   "outputs": [
    {
     "name": "stderr",
     "output_type": "stream",
     "text": [
      "/home/trips/Virtual_env_python/lib64/python3.9/site-packages/sklearn/manifold/_t_sne.py:991: FutureWarning: The PCA initialization in TSNE will change to have the standard deviation of PC1 equal to 1e-4 in 1.2. This will ensure better convergence.\n",
      "  warnings.warn(\n"
     ]
    },
    {
     "data": {
      "text/plain": [
       "Text(0.5, 1.0, 'Dataset : ECG200 \\n tsne reduced representation of time series')"
      ]
     },
     "execution_count": 230,
     "metadata": {},
     "output_type": "execute_result"
    },
    {
     "data": {
      "image/png": "[encoded data removed]",
      "text/plain": [
       "<Figure size 576x576 with 1 Axes>"
      ]
     },
     "metadata": {
      "needs_background": "light"
     },
     "output_type": "display_data"
    }
   ],
   "source": [
    "tsne = TSNE(n_components=2, learning_rate=\"auto\", init=\"pca\", perplexity=15)\n",
    "reduced = tsne.fit_transform(train_repr)\n",
    "\n",
    "# obtaining unique labels\n",
    "unique_labels = np.unique(train_labels)\n",
    "\n",
    "fig, ax = plt.subplots(figsize=(8, 8))\n",
    "\n",
    "colors = cm.rainbow(np.linspace(0, 1, len(unique_labels)))\n",
    "\n",
    "for label, col in zip(unique_labels, colors):\n",
    "    indices = [i for i, l in enumerate(train_labels) if l == label]\n",
    "    \n",
    "    current_tx = np.take(reduced[:,0], indices)\n",
    "    current_ty = np.take(reduced[:,1], indices)\n",
    "    \n",
    "    ax.scatter(current_tx, current_ty, color=col, label=label)\n",
    "    \n",
    "# build a legend using the labels we set previously\n",
    "plt.legend(loc='best')\n",
    "plt.title(\"Dataset : \"+dataset +\" \\n tsne reduced representation of time series\")"
   ]
  },
  {
   "cell_type": "markdown",
   "id": "d2366472",
   "metadata": {},
   "source": [
    "## Linear evaluation"
   ]
  },
  {
   "cell_type": "code",
   "execution_count": 231,
   "id": "2b153aaf",
   "metadata": {},
   "outputs": [],
   "source": [
    "# Linear evaluation of the model\n",
    "# modelname can 'knn', 'svm', 'xgbt', 'linear'\n",
    "modelname = 'svm'\n",
    "out, eval_res = eval_classification(model, train_data, train_labels, test_data, test_labels, eval_protocol=modelname)"
   ]
  },
  {
   "cell_type": "code",
   "execution_count": 232,
   "id": "a0b95eeb",
   "metadata": {},
   "outputs": [
    {
     "name": "stdout",
     "output_type": "stream",
     "text": [
      "Dataset :  ECG200  trained on a  svm  classifier \n",
      "Evaluation result: {'acc': 0.93, 'auprc': 0.9808411634587798, 'auroc': 0.9618055555555555}\n"
     ]
    }
   ],
   "source": [
    "# Saving the model and printing the results\n",
    "pkl_save(f'{run_dir}/out.pkl', out)\n",
    "pkl_save(f'{run_dir}/eval_res.pkl', eval_res)\n",
    "print(\"Dataset : \", dataset, \" trained on a \", modelname, \" classifier \" )\n",
    "print('Evaluation result:', eval_res)"
   ]
  },
  {
   "cell_type": "markdown",
   "id": "7ba36f02",
   "metadata": {},
   "source": [
    "### Exercises:\n",
    "\n",
    "1) We saw the role of batchsize in CL. Does TS@Vec gets impacted by the batchsize? Can you evaluate the quality of representation learnt as batchsize changes?\n",
    "\n",
    "2) Experiment by plotting different tsne plots corresponding to different learnt representation dimension. Can you identify a value of repr-dims that learns more task-relevant information?\n",
    "\n",
    "3) Does adding missingness (using the parameter 'irregular') helps?"
   ]
  },
  {
   "cell_type": "code",
   "execution_count": null,
   "id": "8f56e83f",
   "metadata": {},
   "outputs": [],
   "source": []
  },
  {
   "cell_type": "code",
   "execution_count": null,
   "id": "405be7db",
   "metadata": {},
   "outputs": [],
   "source": []
  }
 ],
 "metadata": {
  "kernelspec": {
   "display_name": "Python 3 (ipykernel)",
   "language": "python",
   "name": "python3"
  },
  "language_info": {
   "codemirror_mode": {
    "name": "ipython",
    "version": 3
   },
   "file_extension": ".py",
   "mimetype": "text/x-python",
   "name": "python",
   "nbconvert_exporter": "python",
   "pygments_lexer": "ipython3",
   "version": "3.9.10"
  }
 },
 "nbformat": 4,
 "nbformat_minor": 5
}
